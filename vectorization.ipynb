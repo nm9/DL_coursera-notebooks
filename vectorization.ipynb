{
 "cells": [
  {
   "cell_type": "code",
   "execution_count": 1,
   "metadata": {
    "tags": []
   },
   "outputs": [
    {
     "output_type": "stream",
     "name": "stdout",
     "text": "[1 2 3 4]\n"
    }
   ],
   "source": [
    "import numpy as np\n",
    "\n",
    "a=np.array([1,2,3,4])\n",
    "print(a)"
   ]
  },
  {
   "cell_type": "code",
   "execution_count": 2,
   "metadata": {
    "tags": []
   },
   "outputs": [
    {
     "output_type": "stream",
     "name": "stdout",
     "text": "250071.82679531095\nVectorized version:1435.603380203247ms\n250071.82679531878\nFor loop:793.4954166412354ms\n"
    }
   ],
   "source": [
    "import time\n",
    "\n",
    "x=np.random.rand(1000000)\n",
    "y=np.random.rand(1000000)\n",
    "\n",
    "tic=time.time()\n",
    "z=np.dot(x,y)\n",
    "toc=time.time()\n",
    "\n",
    "print(z)\n",
    "\n",
    "print('Vectorized version:'+str(1000*(toc-tic))+'ms')\n",
    "\n",
    "c=0\n",
    "tic=time.time()\n",
    "for i in range(1000000):\n",
    "    c+=x[i]*y[i]\n",
    "toc=time.time()\n",
    "\n",
    "print(c)\n",
    "print('For loop:'+str(1000*(toc-tic))+'ms')"
   ]
  },
  {
   "cell_type": "code",
   "execution_count": 5,
   "metadata": {
    "tags": []
   },
   "outputs": [
    {
     "output_type": "stream",
     "name": "stdout",
     "text": "[[ 0.68984209  0.05253208 -1.50278015]\n [-1.71863809 -0.42387342  0.760026  ]\n [-1.07262856 -0.75892562 -0.61876197]] \n\n[[-0.50568542]\n [ 1.5388315 ]\n [ 1.39441425]] \n\n[[-0.34884309 -0.0265647   0.75993401]\n [-2.64469442 -0.65226978  1.16955194]\n [-1.49568855 -1.0582567  -0.86281052]]\n"
    }
   ],
   "source": [
    "a = np.random.randn(3, 3)\n",
    "print(a,'\\n')\n",
    "b = np.random.randn(3, 1)\n",
    "print(b,'\\n')\n",
    "c = a*b\n",
    "print(c)"
   ]
  },
  {
   "cell_type": "code",
   "execution_count": null,
   "metadata": {},
   "outputs": [],
   "source": []
  }
 ],
 "metadata": {
  "language_info": {
   "codemirror_mode": {
    "name": "ipython",
    "version": 3
   },
   "file_extension": ".py",
   "mimetype": "text/x-python",
   "name": "python",
   "nbconvert_exporter": "python",
   "pygments_lexer": "ipython3",
   "version": "3.7.7-final"
  },
  "orig_nbformat": 2,
  "kernelspec": {
   "name": "python37764bitmyenvconda9f57bdce6d4b4976b1272d2cc22cbd26",
   "display_name": "Python 3.7.7 64-bit ('myenv': conda)"
  }
 },
 "nbformat": 4,
 "nbformat_minor": 2
}